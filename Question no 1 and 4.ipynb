{
 "cells": [
  {
   "cell_type": "code",
   "execution_count": 24,
   "metadata": {},
   "outputs": [
    {
     "name": "stdout",
     "output_type": "stream",
     "text": [
      "Enter Password: faizan\n",
      "length of string is =  6\n",
      "First Four Characters are = \n",
      "f\n",
      "a\n",
      "i\n",
      "z\n"
     ]
    }
   ],
   "source": [
    "\n",
    "\n",
    "passwo = \"virtual\"\n",
    "input_str =input(\"Enter Password: \")\n",
    "if len(input_str) >= 10:\n",
    "    print (\"Error! Only 10 characters allowed!\")\n",
    "    \n",
    "data = []\n",
    "data += input_str\n",
    "abc = 4\n",
    "\n",
    "\n",
    "\n",
    "    \n",
    "if passwo == input_str:\n",
    "    print(\"Correct Password\")\n",
    "else:\n",
    "    print(\"length of string is = \" , len(input_str))\n",
    "    print(\"First Four Characters are = \")\n",
    "    for x in range(4):\n",
    "        \n",
    "        print(data[x])\n",
    " \n",
    "\n",
    "        \n",
    "    \n",
    "    \n",
    "    \n"
   ]
  },
  {
   "cell_type": "code",
   "execution_count": null,
   "metadata": {},
   "outputs": [],
   "source": []
  },
  {
   "cell_type": "code",
   "execution_count": 26,
   "metadata": {},
   "outputs": [
    {
     "name": "stdout",
     "output_type": "stream",
     "text": [
      "[1, 2, 3, 4, 5, 6, 7, 2, 8, 6, 8, 2, 4, 6, 32, 10, 24, 84, 32, 18, 3, 18, 18, 36, 45, 18, 27, 36, 48, 108, 144, 120, 15, 30, 90, 120, 150, 90, 420, 240, 54, 72, 54, 144, 90, 324, 378, 42, 84, 189, 84, 210, 378, 882, 504, 96]\n"
     ]
    }
   ],
   "source": [
    "from random import randint as RI\n",
    "data = list()\n",
    "for i in range (1,RI(1,10)):\n",
    "    for j in range (1,RI(1,10)):\n",
    "        for k in range (1,RI(1,10)):\n",
    "           data.append(i*j*k * RI(1,[i,j,k][RI(0,2)]))\n",
    "            \n",
    "print(data)"
   ]
  },
  {
   "cell_type": "code",
   "execution_count": null,
   "metadata": {},
   "outputs": [],
   "source": []
  },
  {
   "cell_type": "code",
   "execution_count": null,
   "metadata": {},
   "outputs": [],
   "source": []
  }
 ],
 "metadata": {
  "kernelspec": {
   "display_name": "Python 3",
   "language": "python",
   "name": "python3"
  },
  "language_info": {
   "codemirror_mode": {
    "name": "ipython",
    "version": 3
   },
   "file_extension": ".py",
   "mimetype": "text/x-python",
   "name": "python",
   "nbconvert_exporter": "python",
   "pygments_lexer": "ipython3",
   "version": "3.8.5"
  }
 },
 "nbformat": 4,
 "nbformat_minor": 4
}
