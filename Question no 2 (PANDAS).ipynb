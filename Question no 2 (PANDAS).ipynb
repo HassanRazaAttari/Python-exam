{
 "cells": [
  {
   "cell_type": "code",
   "execution_count": 1,
   "metadata": {},
   "outputs": [
    {
     "name": "stdout",
     "output_type": "stream",
     "text": [
      "2.38875\n"
     ]
    }
   ],
   "source": [
    "import pandas as pd \n",
    "df = pd.read_excel(\"Book1.xlsx\", \"Sheet1\")\n",
    "df\n",
    "df_mean = df[\"GPA\"].mean()\n",
    "print (df_mean)"
   ]
  },
  {
   "cell_type": "code",
   "execution_count": 2,
   "metadata": {},
   "outputs": [
    {
     "name": "stdout",
     "output_type": "stream",
     "text": [
      "['M', 'M', 'F', 'M', 'F', 'F', 'M', 'F', 'F', 'F', 'M', 'M', 'F', 'F', 'F', 'F']\n",
      "TOTAl no of Males are =  6\n",
      "TOTAl no of Females are =  10\n"
     ]
    }
   ],
   "source": [
    "\n",
    "MaFe_list = df['Gender'].tolist()\n",
    "print(MaFe_list)\n",
    "f_count = MaFe_list.count('F')\n",
    "m_count = MaFe_list.count('M')\n",
    "\n",
    "print(\"TOTAl no of Males are = \" ,m_count)\n",
    "print(\"TOTAl no of Females are = \" ,f_count)"
   ]
  },
  {
   "cell_type": "code",
   "execution_count": 3,
   "metadata": {},
   "outputs": [
    {
     "name": "stdout",
     "output_type": "stream",
     "text": [
      "[18, 22, 21, 19, 21, 20, 20, 18, 20, 18, 22, 19, 19, 19, 21, 22]\n"
     ]
    },
    {
     "data": {
      "text/html": [
       "<div>\n",
       "<style scoped>\n",
       "    .dataframe tbody tr th:only-of-type {\n",
       "        vertical-align: middle;\n",
       "    }\n",
       "\n",
       "    .dataframe tbody tr th {\n",
       "        vertical-align: top;\n",
       "    }\n",
       "\n",
       "    .dataframe thead th {\n",
       "        text-align: right;\n",
       "    }\n",
       "</style>\n",
       "<table border=\"1\" class=\"dataframe\">\n",
       "  <thead>\n",
       "    <tr style=\"text-align: right;\">\n",
       "      <th></th>\n",
       "      <th>ID</th>\n",
       "      <th>Age</th>\n",
       "      <th>Gender</th>\n",
       "      <th>District</th>\n",
       "      <th>SATV</th>\n",
       "      <th>SATM</th>\n",
       "      <th>GPA</th>\n",
       "    </tr>\n",
       "  </thead>\n",
       "  <tbody>\n",
       "    <tr>\n",
       "      <th>1</th>\n",
       "      <td>62516</td>\n",
       "      <td>22</td>\n",
       "      <td>M</td>\n",
       "      <td>5</td>\n",
       "      <td>670</td>\n",
       "      <td>496</td>\n",
       "      <td>1.11</td>\n",
       "    </tr>\n",
       "    <tr>\n",
       "      <th>2</th>\n",
       "      <td>55509</td>\n",
       "      <td>21</td>\n",
       "      <td>F</td>\n",
       "      <td>54</td>\n",
       "      <td>639</td>\n",
       "      <td>439</td>\n",
       "      <td>2.68</td>\n",
       "    </tr>\n",
       "    <tr>\n",
       "      <th>4</th>\n",
       "      <td>36387</td>\n",
       "      <td>21</td>\n",
       "      <td>F</td>\n",
       "      <td>36</td>\n",
       "      <td>620</td>\n",
       "      <td>306</td>\n",
       "      <td>2.16</td>\n",
       "    </tr>\n",
       "    <tr>\n",
       "      <th>10</th>\n",
       "      <td>48552</td>\n",
       "      <td>22</td>\n",
       "      <td>M</td>\n",
       "      <td>63</td>\n",
       "      <td>260</td>\n",
       "      <td>498</td>\n",
       "      <td>3.24</td>\n",
       "    </tr>\n",
       "    <tr>\n",
       "      <th>14</th>\n",
       "      <td>34689</td>\n",
       "      <td>21</td>\n",
       "      <td>F</td>\n",
       "      <td>42</td>\n",
       "      <td>585</td>\n",
       "      <td>708</td>\n",
       "      <td>1.80</td>\n",
       "    </tr>\n",
       "    <tr>\n",
       "      <th>15</th>\n",
       "      <td>32763</td>\n",
       "      <td>22</td>\n",
       "      <td>F</td>\n",
       "      <td>20</td>\n",
       "      <td>556</td>\n",
       "      <td>787</td>\n",
       "      <td>1.18</td>\n",
       "    </tr>\n",
       "  </tbody>\n",
       "</table>\n",
       "</div>"
      ],
      "text/plain": [
       "       ID  Age Gender  District  SATV  SATM   GPA\n",
       "1   62516   22      M         5   670   496  1.11\n",
       "2   55509   21      F        54   639   439  2.68\n",
       "4   36387   21      F        36   620   306  2.16\n",
       "10  48552   22      M        63   260   498  3.24\n",
       "14  34689   21      F        42   585   708  1.80\n",
       "15  32763   22      F        20   556   787  1.18"
      ]
     },
     "execution_count": 3,
     "metadata": {},
     "output_type": "execute_result"
    }
   ],
   "source": [
    "agelist = df['Age'].tolist()\n",
    "print(agelist)\n",
    "\n",
    "df.loc[df['Age'] > 20]"
   ]
  },
  {
   "cell_type": "code",
   "execution_count": 5,
   "metadata": {},
   "outputs": [
    {
     "name": "stdout",
     "output_type": "stream",
     "text": [
      "ID already exists.\n",
      "       ID  Age Gender  District  SATV  SATM   GPA\n",
      "0   54419   18      M        38   368   253  3.52\n",
      "1   62516   22      M         5   670   496  1.11\n",
      "2   55509   21      F        54   639   439  2.68\n",
      "3   36489   19      M        49   368   465  3.11\n",
      "4   36387   21      F        36   620   306  2.16\n",
      "5   95507   20      F        13   512   593  2.83\n",
      "6   16360   20      M        52   621   377  2.79\n",
      "7   12838   18      F        44   571   544  2.13\n",
      "8   73450   20      F        59   647   746  2.08\n",
      "9   26869   18      F        28   337   371  2.28\n",
      "10  48552   22      M        63   260   498  3.24\n",
      "11  23416   19      M        51   476   294  2.31\n",
      "12  42635   19      F        35   677   241  3.19\n",
      "13  67448   19      F        55   335   533  1.81\n",
      "14  34689   21      F        42   585   708  1.80\n",
      "15  32763   22      F        20   556   787  1.18\n"
     ]
    }
   ],
   "source": [
    "ID_new = 55509   ### if you want to check wheather new data ads in data frame or not then simple check it by changing id only   \n",
    "Age = 24\n",
    "Gender = 'M'\n",
    "District = 33\n",
    "SATV  = 345\n",
    "SATM = 787\n",
    "GPA = 3.23\n",
    "\n",
    "if any(df['ID'] == ID_new):\n",
    "    print('ID already exists.')\n",
    "else:\n",
    "    df.loc[len(df)] = [ID_new, Age, Gender, District, SATV, SATM, GPA]\n",
    "    print('New ID added to dataframe.')\n",
    "    \n",
    "print(df)"
   ]
  },
  {
   "cell_type": "code",
   "execution_count": null,
   "metadata": {},
   "outputs": [],
   "source": []
  }
 ],
 "metadata": {
  "kernelspec": {
   "display_name": "Python 3",
   "language": "python",
   "name": "python3"
  },
  "language_info": {
   "codemirror_mode": {
    "name": "ipython",
    "version": 3
   },
   "file_extension": ".py",
   "mimetype": "text/x-python",
   "name": "python",
   "nbconvert_exporter": "python",
   "pygments_lexer": "ipython3",
   "version": "3.8.5"
  }
 },
 "nbformat": 4,
 "nbformat_minor": 4
}
